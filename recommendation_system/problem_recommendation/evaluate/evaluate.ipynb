{
 "cells": [
  {
   "cell_type": "code",
   "execution_count": 347,
   "metadata": {},
   "outputs": [],
   "source": [
    "import pandas as pd\n",
    "import numpy as np"
   ]
  },
  {
   "cell_type": "code",
   "execution_count": 348,
   "metadata": {},
   "outputs": [
    {
     "data": {
      "text/html": [
       "<div>\n",
       "<style scoped>\n",
       "    .dataframe tbody tr th:only-of-type {\n",
       "        vertical-align: middle;\n",
       "    }\n",
       "\n",
       "    .dataframe tbody tr th {\n",
       "        vertical-align: top;\n",
       "    }\n",
       "\n",
       "    .dataframe thead th {\n",
       "        text-align: right;\n",
       "    }\n",
       "</style>\n",
       "<table border=\"1\" class=\"dataframe\">\n",
       "  <thead>\n",
       "    <tr style=\"text-align: right;\">\n",
       "      <th></th>\n",
       "      <th>problemId</th>\n",
       "      <th>C</th>\n",
       "      <th>C++</th>\n",
       "      <th>Go</th>\n",
       "      <th>Java</th>\n",
       "      <th>Javascript</th>\n",
       "      <th>Python</th>\n",
       "      <th>Python3</th>\n",
       "    </tr>\n",
       "  </thead>\n",
       "  <tbody>\n",
       "    <tr>\n",
       "      <th>0</th>\n",
       "      <td>5b5c8cd7276e2200208fed62</td>\n",
       "      <td>0.113084</td>\n",
       "      <td>0.062896</td>\n",
       "      <td>0.018709</td>\n",
       "      <td>0.106951</td>\n",
       "      <td>0.136431</td>\n",
       "      <td>0.058652</td>\n",
       "      <td>0.331156</td>\n",
       "    </tr>\n",
       "    <tr>\n",
       "      <th>1</th>\n",
       "      <td>5b645f711b2cd40020b6c771</td>\n",
       "      <td>0.097432</td>\n",
       "      <td>0.091584</td>\n",
       "      <td>0.014505</td>\n",
       "      <td>0.072974</td>\n",
       "      <td>0.105770</td>\n",
       "      <td>0.410028</td>\n",
       "      <td>0.272099</td>\n",
       "    </tr>\n",
       "    <tr>\n",
       "      <th>2</th>\n",
       "      <td>5b649819c0b1b80020eb30e1</td>\n",
       "      <td>0.228293</td>\n",
       "      <td>0.054779</td>\n",
       "      <td>0.027504</td>\n",
       "      <td>0.076853</td>\n",
       "      <td>0.200560</td>\n",
       "      <td>0.086221</td>\n",
       "      <td>0.287669</td>\n",
       "    </tr>\n",
       "    <tr>\n",
       "      <th>3</th>\n",
       "      <td>5b64600d1b2cd40020b6c772</td>\n",
       "      <td>0.154672</td>\n",
       "      <td>0.059644</td>\n",
       "      <td>0.000611</td>\n",
       "      <td>0.076124</td>\n",
       "      <td>0.004455</td>\n",
       "      <td>0.001915</td>\n",
       "      <td>0.260564</td>\n",
       "    </tr>\n",
       "    <tr>\n",
       "      <th>4</th>\n",
       "      <td>5b6c3ec18cab100020e963b7</td>\n",
       "      <td>0.111443</td>\n",
       "      <td>0.072951</td>\n",
       "      <td>0.019287</td>\n",
       "      <td>0.114502</td>\n",
       "      <td>0.140643</td>\n",
       "      <td>0.060463</td>\n",
       "      <td>0.387390</td>\n",
       "    </tr>\n",
       "    <tr>\n",
       "      <th>...</th>\n",
       "      <td>...</td>\n",
       "      <td>...</td>\n",
       "      <td>...</td>\n",
       "      <td>...</td>\n",
       "      <td>...</td>\n",
       "      <td>...</td>\n",
       "      <td>...</td>\n",
       "      <td>...</td>\n",
       "    </tr>\n",
       "    <tr>\n",
       "      <th>204</th>\n",
       "      <td>63a2b5b7a198a20018e909d9</td>\n",
       "      <td>0.040642</td>\n",
       "      <td>0.037719</td>\n",
       "      <td>0.011408</td>\n",
       "      <td>0.105617</td>\n",
       "      <td>0.083191</td>\n",
       "      <td>0.035764</td>\n",
       "      <td>0.372475</td>\n",
       "    </tr>\n",
       "    <tr>\n",
       "      <th>205</th>\n",
       "      <td>63a2b688a198a20018e909db</td>\n",
       "      <td>0.113426</td>\n",
       "      <td>0.060145</td>\n",
       "      <td>0.031839</td>\n",
       "      <td>0.107438</td>\n",
       "      <td>0.232172</td>\n",
       "      <td>0.099812</td>\n",
       "      <td>0.238944</td>\n",
       "    </tr>\n",
       "    <tr>\n",
       "      <th>206</th>\n",
       "      <td>63a2b83da198a20018e909df</td>\n",
       "      <td>0.102083</td>\n",
       "      <td>0.066264</td>\n",
       "      <td>0.028655</td>\n",
       "      <td>0.105352</td>\n",
       "      <td>0.208955</td>\n",
       "      <td>0.089831</td>\n",
       "      <td>0.203811</td>\n",
       "    </tr>\n",
       "    <tr>\n",
       "      <th>207</th>\n",
       "      <td>63a2b900a198a20018e909e1</td>\n",
       "      <td>0.048611</td>\n",
       "      <td>0.190476</td>\n",
       "      <td>0.013645</td>\n",
       "      <td>0.076741</td>\n",
       "      <td>0.099502</td>\n",
       "      <td>0.042776</td>\n",
       "      <td>0.343945</td>\n",
       "    </tr>\n",
       "    <tr>\n",
       "      <th>208</th>\n",
       "      <td>63a2b9c9a198a20018e909e3</td>\n",
       "      <td>0.110833</td>\n",
       "      <td>0.910053</td>\n",
       "      <td>0.031111</td>\n",
       "      <td>0.134986</td>\n",
       "      <td>0.226866</td>\n",
       "      <td>0.097530</td>\n",
       "      <td>0.186713</td>\n",
       "    </tr>\n",
       "  </tbody>\n",
       "</table>\n",
       "<p>209 rows × 8 columns</p>\n",
       "</div>"
      ],
      "text/plain": [
       "                    problemId         C       C++        Go      Java  \\\n",
       "0    5b5c8cd7276e2200208fed62  0.113084  0.062896  0.018709  0.106951   \n",
       "1    5b645f711b2cd40020b6c771  0.097432  0.091584  0.014505  0.072974   \n",
       "2    5b649819c0b1b80020eb30e1  0.228293  0.054779  0.027504  0.076853   \n",
       "3    5b64600d1b2cd40020b6c772  0.154672  0.059644  0.000611  0.076124   \n",
       "4    5b6c3ec18cab100020e963b7  0.111443  0.072951  0.019287  0.114502   \n",
       "..                        ...       ...       ...       ...       ...   \n",
       "204  63a2b5b7a198a20018e909d9  0.040642  0.037719  0.011408  0.105617   \n",
       "205  63a2b688a198a20018e909db  0.113426  0.060145  0.031839  0.107438   \n",
       "206  63a2b83da198a20018e909df  0.102083  0.066264  0.028655  0.105352   \n",
       "207  63a2b900a198a20018e909e1  0.048611  0.190476  0.013645  0.076741   \n",
       "208  63a2b9c9a198a20018e909e3  0.110833  0.910053  0.031111  0.134986   \n",
       "\n",
       "     Javascript    Python   Python3  \n",
       "0      0.136431  0.058652  0.331156  \n",
       "1      0.105770  0.410028  0.272099  \n",
       "2      0.200560  0.086221  0.287669  \n",
       "3      0.004455  0.001915  0.260564  \n",
       "4      0.140643  0.060463  0.387390  \n",
       "..          ...       ...       ...  \n",
       "204    0.083191  0.035764  0.372475  \n",
       "205    0.232172  0.099812  0.238944  \n",
       "206    0.208955  0.089831  0.203811  \n",
       "207    0.099502  0.042776  0.343945  \n",
       "208    0.226866  0.097530  0.186713  \n",
       "\n",
       "[209 rows x 8 columns]"
      ]
     },
     "execution_count": 348,
     "metadata": {},
     "output_type": "execute_result"
    }
   ],
   "source": [
    "col_name = [\"ProblemId\",\"C\",\"C++\",\"Go\",\"Java\",\"Javascript\",\"Python\",\"Python3\"]\n",
    "df = pd.read_csv('../data/processed/success_score.csv')\n",
    "df.rename(columns = {'Unnamed: 0':'problemId'}, inplace = True)\n",
    "df"
   ]
  },
  {
   "cell_type": "code",
   "execution_count": 349,
   "metadata": {},
   "outputs": [],
   "source": [
    "from sklearn.neighbors import KNeighborsClassifier as KNN"
   ]
  },
  {
   "cell_type": "code",
   "execution_count": 350,
   "metadata": {},
   "outputs": [],
   "source": [
    "X = df.drop('problemId', axis=1)\n",
    "Y = df['problemId']"
   ]
  },
  {
   "cell_type": "code",
   "execution_count": 351,
   "metadata": {},
   "outputs": [],
   "source": [
    "from sklearn.model_selection import train_test_split\n",
    "\n",
    "x_train,x_test,y_train,y_test = train_test_split(X,Y, test_size=0.4, random_state=4)"
   ]
  },
  {
   "cell_type": "code",
   "execution_count": 352,
   "metadata": {},
   "outputs": [
    {
     "data": {
      "text/plain": [
       "((125, 7), (84, 7), (125,), (84,))"
      ]
     },
     "execution_count": 352,
     "metadata": {},
     "output_type": "execute_result"
    }
   ],
   "source": [
    "x_train.shape,x_test.shape,y_train.shape,y_test.shape"
   ]
  },
  {
   "cell_type": "code",
   "execution_count": 353,
   "metadata": {},
   "outputs": [
    {
     "name": "stderr",
     "output_type": "stream",
     "text": [
      "c:\\Users\\salman\\AppData\\Local\\Programs\\Python\\Python39\\lib\\site-packages\\sklearn\\base.py:441: UserWarning: X does not have valid feature names, but KNeighborsClassifier was fitted with feature names\n",
      "  warnings.warn(\n"
     ]
    }
   ],
   "source": [
    "knn = KNN(n_neighbors=3,algorithm='ball_tree')\n",
    "knn.fit(x_train, y_train)\n",
    "y_pred = knn.predict(x_test)"
   ]
  },
  {
   "cell_type": "code",
   "execution_count": 354,
   "metadata": {},
   "outputs": [],
   "source": [
    "y_test_sum = []\n",
    "\n",
    "for prob in y_test:\n",
    "    y_test_sum.append(sum(df[df['problemId'] == prob].to_numpy()[0,1:]))"
   ]
  },
  {
   "cell_type": "code",
   "execution_count": 355,
   "metadata": {},
   "outputs": [],
   "source": [
    "y_pred_sum = []\n",
    "\n",
    "for prob in y_pred:\n",
    "    y_pred_sum.append(sum(df[df['problemId'] == prob].to_numpy()[0,1:]))"
   ]
  },
  {
   "cell_type": "code",
   "execution_count": 356,
   "metadata": {},
   "outputs": [
    {
     "data": {
      "text/plain": [
       "(84, 84)"
      ]
     },
     "execution_count": 356,
     "metadata": {},
     "output_type": "execute_result"
    }
   ],
   "source": [
    "len(y_pred_sum),len(y_test_sum)"
   ]
  },
  {
   "cell_type": "code",
   "execution_count": 357,
   "metadata": {},
   "outputs": [
    {
     "data": {
      "text/plain": [
       "0.7200745586947008"
      ]
     },
     "execution_count": 357,
     "metadata": {},
     "output_type": "execute_result"
    }
   ],
   "source": [
    "from sklearn.metrics import r2_score\n",
    "\n",
    "r2_score(y_test_sum,y_pred_sum)"
   ]
  },
  {
   "cell_type": "code",
   "execution_count": 358,
   "metadata": {},
   "outputs": [],
   "source": [
    "from sklearn.metrics import r2_score\n",
    "def Evaluate(x_train,x_test,y_train,y_test):\n",
    "    res = []\n",
    "\n",
    "    for i in range(1,26):\n",
    "        knn = KNN(n_neighbors=i,algorithm='ball_tree')\n",
    "        knn.fit(x_train, y_train)\n",
    "        y_pred = knn.predict(x_test)\n",
    "\n",
    "        y_test_sum = []\n",
    "\n",
    "        for prob in y_test:\n",
    "            y_test_sum.append(sum(df[df['problemId'] == prob].to_numpy()[0,1:]))\n",
    "\n",
    "\n",
    "        y_pred_sum = []\n",
    "\n",
    "        for prob in y_pred:\n",
    "            y_pred_sum.append(sum(df[df['problemId'] == prob].to_numpy()[0,1:]))\n",
    "\n",
    "\n",
    "        res.append(r2_score(y_test_sum,y_pred_sum))\n",
    "\n",
    "    return res"
   ]
  },
  {
   "cell_type": "code",
   "execution_count": 359,
   "metadata": {},
   "outputs": [
    {
     "name": "stderr",
     "output_type": "stream",
     "text": [
      "c:\\Users\\salman\\AppData\\Local\\Programs\\Python\\Python39\\lib\\site-packages\\sklearn\\base.py:441: UserWarning: X does not have valid feature names, but KNeighborsClassifier was fitted with feature names\n",
      "  warnings.warn(\n",
      "c:\\Users\\salman\\AppData\\Local\\Programs\\Python\\Python39\\lib\\site-packages\\sklearn\\base.py:441: UserWarning: X does not have valid feature names, but KNeighborsClassifier was fitted with feature names\n",
      "  warnings.warn(\n",
      "c:\\Users\\salman\\AppData\\Local\\Programs\\Python\\Python39\\lib\\site-packages\\sklearn\\base.py:441: UserWarning: X does not have valid feature names, but KNeighborsClassifier was fitted with feature names\n",
      "  warnings.warn(\n",
      "c:\\Users\\salman\\AppData\\Local\\Programs\\Python\\Python39\\lib\\site-packages\\sklearn\\base.py:441: UserWarning: X does not have valid feature names, but KNeighborsClassifier was fitted with feature names\n",
      "  warnings.warn(\n",
      "c:\\Users\\salman\\AppData\\Local\\Programs\\Python\\Python39\\lib\\site-packages\\sklearn\\base.py:441: UserWarning: X does not have valid feature names, but KNeighborsClassifier was fitted with feature names\n",
      "  warnings.warn(\n",
      "c:\\Users\\salman\\AppData\\Local\\Programs\\Python\\Python39\\lib\\site-packages\\sklearn\\base.py:441: UserWarning: X does not have valid feature names, but KNeighborsClassifier was fitted with feature names\n",
      "  warnings.warn(\n",
      "c:\\Users\\salman\\AppData\\Local\\Programs\\Python\\Python39\\lib\\site-packages\\sklearn\\base.py:441: UserWarning: X does not have valid feature names, but KNeighborsClassifier was fitted with feature names\n",
      "  warnings.warn(\n",
      "c:\\Users\\salman\\AppData\\Local\\Programs\\Python\\Python39\\lib\\site-packages\\sklearn\\base.py:441: UserWarning: X does not have valid feature names, but KNeighborsClassifier was fitted with feature names\n",
      "  warnings.warn(\n",
      "c:\\Users\\salman\\AppData\\Local\\Programs\\Python\\Python39\\lib\\site-packages\\sklearn\\base.py:441: UserWarning: X does not have valid feature names, but KNeighborsClassifier was fitted with feature names\n",
      "  warnings.warn(\n",
      "c:\\Users\\salman\\AppData\\Local\\Programs\\Python\\Python39\\lib\\site-packages\\sklearn\\base.py:441: UserWarning: X does not have valid feature names, but KNeighborsClassifier was fitted with feature names\n",
      "  warnings.warn(\n",
      "c:\\Users\\salman\\AppData\\Local\\Programs\\Python\\Python39\\lib\\site-packages\\sklearn\\base.py:441: UserWarning: X does not have valid feature names, but KNeighborsClassifier was fitted with feature names\n",
      "  warnings.warn(\n",
      "c:\\Users\\salman\\AppData\\Local\\Programs\\Python\\Python39\\lib\\site-packages\\sklearn\\base.py:441: UserWarning: X does not have valid feature names, but KNeighborsClassifier was fitted with feature names\n",
      "  warnings.warn(\n",
      "c:\\Users\\salman\\AppData\\Local\\Programs\\Python\\Python39\\lib\\site-packages\\sklearn\\base.py:441: UserWarning: X does not have valid feature names, but KNeighborsClassifier was fitted with feature names\n",
      "  warnings.warn(\n",
      "c:\\Users\\salman\\AppData\\Local\\Programs\\Python\\Python39\\lib\\site-packages\\sklearn\\base.py:441: UserWarning: X does not have valid feature names, but KNeighborsClassifier was fitted with feature names\n",
      "  warnings.warn(\n",
      "c:\\Users\\salman\\AppData\\Local\\Programs\\Python\\Python39\\lib\\site-packages\\sklearn\\base.py:441: UserWarning: X does not have valid feature names, but KNeighborsClassifier was fitted with feature names\n",
      "  warnings.warn(\n",
      "c:\\Users\\salman\\AppData\\Local\\Programs\\Python\\Python39\\lib\\site-packages\\sklearn\\base.py:441: UserWarning: X does not have valid feature names, but KNeighborsClassifier was fitted with feature names\n",
      "  warnings.warn(\n",
      "c:\\Users\\salman\\AppData\\Local\\Programs\\Python\\Python39\\lib\\site-packages\\sklearn\\base.py:441: UserWarning: X does not have valid feature names, but KNeighborsClassifier was fitted with feature names\n",
      "  warnings.warn(\n",
      "c:\\Users\\salman\\AppData\\Local\\Programs\\Python\\Python39\\lib\\site-packages\\sklearn\\base.py:441: UserWarning: X does not have valid feature names, but KNeighborsClassifier was fitted with feature names\n",
      "  warnings.warn(\n",
      "c:\\Users\\salman\\AppData\\Local\\Programs\\Python\\Python39\\lib\\site-packages\\sklearn\\base.py:441: UserWarning: X does not have valid feature names, but KNeighborsClassifier was fitted with feature names\n",
      "  warnings.warn(\n",
      "c:\\Users\\salman\\AppData\\Local\\Programs\\Python\\Python39\\lib\\site-packages\\sklearn\\base.py:441: UserWarning: X does not have valid feature names, but KNeighborsClassifier was fitted with feature names\n",
      "  warnings.warn(\n",
      "c:\\Users\\salman\\AppData\\Local\\Programs\\Python\\Python39\\lib\\site-packages\\sklearn\\base.py:441: UserWarning: X does not have valid feature names, but KNeighborsClassifier was fitted with feature names\n",
      "  warnings.warn(\n",
      "c:\\Users\\salman\\AppData\\Local\\Programs\\Python\\Python39\\lib\\site-packages\\sklearn\\base.py:441: UserWarning: X does not have valid feature names, but KNeighborsClassifier was fitted with feature names\n",
      "  warnings.warn(\n",
      "c:\\Users\\salman\\AppData\\Local\\Programs\\Python\\Python39\\lib\\site-packages\\sklearn\\base.py:441: UserWarning: X does not have valid feature names, but KNeighborsClassifier was fitted with feature names\n",
      "  warnings.warn(\n",
      "c:\\Users\\salman\\AppData\\Local\\Programs\\Python\\Python39\\lib\\site-packages\\sklearn\\base.py:441: UserWarning: X does not have valid feature names, but KNeighborsClassifier was fitted with feature names\n",
      "  warnings.warn(\n",
      "c:\\Users\\salman\\AppData\\Local\\Programs\\Python\\Python39\\lib\\site-packages\\sklearn\\base.py:441: UserWarning: X does not have valid feature names, but KNeighborsClassifier was fitted with feature names\n",
      "  warnings.warn(\n"
     ]
    },
    {
     "data": {
      "text/plain": [
       "[0.8145151792886379,\n",
       " 0.7238946469600178,\n",
       " 0.7200745586947008,\n",
       " 0.6436708733683613,\n",
       " 0.558545250594729,\n",
       " 0.5494544268647239,\n",
       " 0.537757919875679,\n",
       " 0.49480809512731505,\n",
       " 0.5004107454004337,\n",
       " 0.4979177887908467,\n",
       " 0.48104104208732845,\n",
       " 0.43513827126606086,\n",
       " 0.42229092250288236,\n",
       " 0.4166791027776615,\n",
       " 0.39754602168084496,\n",
       " 0.3970548114174469,\n",
       " 0.39440320562244047,\n",
       " 0.3975496761667928,\n",
       " 0.4001525646856149,\n",
       " 0.38538459593958985,\n",
       " 0.3415109556770569,\n",
       " 0.33229263018293764,\n",
       " 0.33321454965869013,\n",
       " 0.3096852100469061,\n",
       " 0.19476303586588595]"
      ]
     },
     "execution_count": 359,
     "metadata": {},
     "output_type": "execute_result"
    }
   ],
   "source": [
    "Evaluate(x_train,x_test,y_train,y_test)"
   ]
  },
  {
   "cell_type": "code",
   "execution_count": null,
   "metadata": {},
   "outputs": [],
   "source": []
  }
 ],
 "metadata": {
  "kernelspec": {
   "display_name": "Python 3",
   "language": "python",
   "name": "python3"
  },
  "language_info": {
   "codemirror_mode": {
    "name": "ipython",
    "version": 3
   },
   "file_extension": ".py",
   "mimetype": "text/x-python",
   "name": "python",
   "nbconvert_exporter": "python",
   "pygments_lexer": "ipython3",
   "version": "3.9.7 (tags/v3.9.7:1016ef3, Aug 30 2021, 20:19:38) [MSC v.1929 64 bit (AMD64)]"
  },
  "orig_nbformat": 4,
  "vscode": {
   "interpreter": {
    "hash": "e58b358bfea57fbec6fce8fd709863752c38546663e0f6dbe19f4a200e737f6c"
   }
  }
 },
 "nbformat": 4,
 "nbformat_minor": 2
}
