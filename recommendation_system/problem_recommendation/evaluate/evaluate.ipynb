{
 "cells": [
  {
   "cell_type": "code",
   "execution_count": 272,
   "metadata": {},
   "outputs": [],
   "source": [
    "import pandas as pd\n",
    "import numpy as np"
   ]
  },
  {
   "cell_type": "code",
   "execution_count": 273,
   "metadata": {},
   "outputs": [
    {
     "data": {
      "text/html": [
       "<div>\n",
       "<style scoped>\n",
       "    .dataframe tbody tr th:only-of-type {\n",
       "        vertical-align: middle;\n",
       "    }\n",
       "\n",
       "    .dataframe tbody tr th {\n",
       "        vertical-align: top;\n",
       "    }\n",
       "\n",
       "    .dataframe thead th {\n",
       "        text-align: right;\n",
       "    }\n",
       "</style>\n",
       "<table border=\"1\" class=\"dataframe\">\n",
       "  <thead>\n",
       "    <tr style=\"text-align: right;\">\n",
       "      <th></th>\n",
       "      <th>problemId</th>\n",
       "      <th>C</th>\n",
       "      <th>C++</th>\n",
       "      <th>Go</th>\n",
       "      <th>Java</th>\n",
       "      <th>Javascript</th>\n",
       "      <th>Python</th>\n",
       "      <th>Python3</th>\n",
       "    </tr>\n",
       "  </thead>\n",
       "  <tbody>\n",
       "    <tr>\n",
       "      <th>0</th>\n",
       "      <td>5b5c8cd7276e2200208fed62</td>\n",
       "      <td>0.113084</td>\n",
       "      <td>0.062896</td>\n",
       "      <td>0.018709</td>\n",
       "      <td>0.106951</td>\n",
       "      <td>0.136431</td>\n",
       "      <td>0.058652</td>\n",
       "      <td>0.331156</td>\n",
       "    </tr>\n",
       "    <tr>\n",
       "      <th>1</th>\n",
       "      <td>5b645f711b2cd40020b6c771</td>\n",
       "      <td>0.097432</td>\n",
       "      <td>0.091584</td>\n",
       "      <td>0.014505</td>\n",
       "      <td>0.072974</td>\n",
       "      <td>0.105770</td>\n",
       "      <td>0.410028</td>\n",
       "      <td>0.272099</td>\n",
       "    </tr>\n",
       "    <tr>\n",
       "      <th>2</th>\n",
       "      <td>5b649819c0b1b80020eb30e1</td>\n",
       "      <td>0.228293</td>\n",
       "      <td>0.054779</td>\n",
       "      <td>0.027504</td>\n",
       "      <td>0.076853</td>\n",
       "      <td>0.200560</td>\n",
       "      <td>0.086221</td>\n",
       "      <td>0.287669</td>\n",
       "    </tr>\n",
       "    <tr>\n",
       "      <th>3</th>\n",
       "      <td>5b64600d1b2cd40020b6c772</td>\n",
       "      <td>0.154672</td>\n",
       "      <td>0.059644</td>\n",
       "      <td>0.000611</td>\n",
       "      <td>0.076124</td>\n",
       "      <td>0.004455</td>\n",
       "      <td>0.001915</td>\n",
       "      <td>0.260564</td>\n",
       "    </tr>\n",
       "    <tr>\n",
       "      <th>4</th>\n",
       "      <td>5b6c3ec18cab100020e963b7</td>\n",
       "      <td>0.111443</td>\n",
       "      <td>0.072951</td>\n",
       "      <td>0.019287</td>\n",
       "      <td>0.114502</td>\n",
       "      <td>0.140643</td>\n",
       "      <td>0.060463</td>\n",
       "      <td>0.387390</td>\n",
       "    </tr>\n",
       "    <tr>\n",
       "      <th>...</th>\n",
       "      <td>...</td>\n",
       "      <td>...</td>\n",
       "      <td>...</td>\n",
       "      <td>...</td>\n",
       "      <td>...</td>\n",
       "      <td>...</td>\n",
       "      <td>...</td>\n",
       "      <td>...</td>\n",
       "    </tr>\n",
       "    <tr>\n",
       "      <th>204</th>\n",
       "      <td>63a2b5b7a198a20018e909d9</td>\n",
       "      <td>0.040642</td>\n",
       "      <td>0.037719</td>\n",
       "      <td>0.011408</td>\n",
       "      <td>0.105617</td>\n",
       "      <td>0.083191</td>\n",
       "      <td>0.035764</td>\n",
       "      <td>0.372475</td>\n",
       "    </tr>\n",
       "    <tr>\n",
       "      <th>205</th>\n",
       "      <td>63a2b688a198a20018e909db</td>\n",
       "      <td>0.113426</td>\n",
       "      <td>0.060145</td>\n",
       "      <td>0.031839</td>\n",
       "      <td>0.107438</td>\n",
       "      <td>0.232172</td>\n",
       "      <td>0.099812</td>\n",
       "      <td>0.238944</td>\n",
       "    </tr>\n",
       "    <tr>\n",
       "      <th>206</th>\n",
       "      <td>63a2b83da198a20018e909df</td>\n",
       "      <td>0.102083</td>\n",
       "      <td>0.066264</td>\n",
       "      <td>0.028655</td>\n",
       "      <td>0.105352</td>\n",
       "      <td>0.208955</td>\n",
       "      <td>0.089831</td>\n",
       "      <td>0.203811</td>\n",
       "    </tr>\n",
       "    <tr>\n",
       "      <th>207</th>\n",
       "      <td>63a2b900a198a20018e909e1</td>\n",
       "      <td>0.048611</td>\n",
       "      <td>0.190476</td>\n",
       "      <td>0.013645</td>\n",
       "      <td>0.076741</td>\n",
       "      <td>0.099502</td>\n",
       "      <td>0.042776</td>\n",
       "      <td>0.343945</td>\n",
       "    </tr>\n",
       "    <tr>\n",
       "      <th>208</th>\n",
       "      <td>63a2b9c9a198a20018e909e3</td>\n",
       "      <td>0.110833</td>\n",
       "      <td>0.910053</td>\n",
       "      <td>0.031111</td>\n",
       "      <td>0.134986</td>\n",
       "      <td>0.226866</td>\n",
       "      <td>0.097530</td>\n",
       "      <td>0.186713</td>\n",
       "    </tr>\n",
       "  </tbody>\n",
       "</table>\n",
       "<p>209 rows × 8 columns</p>\n",
       "</div>"
      ],
      "text/plain": [
       "                    problemId         C       C++        Go      Java  \\\n",
       "0    5b5c8cd7276e2200208fed62  0.113084  0.062896  0.018709  0.106951   \n",
       "1    5b645f711b2cd40020b6c771  0.097432  0.091584  0.014505  0.072974   \n",
       "2    5b649819c0b1b80020eb30e1  0.228293  0.054779  0.027504  0.076853   \n",
       "3    5b64600d1b2cd40020b6c772  0.154672  0.059644  0.000611  0.076124   \n",
       "4    5b6c3ec18cab100020e963b7  0.111443  0.072951  0.019287  0.114502   \n",
       "..                        ...       ...       ...       ...       ...   \n",
       "204  63a2b5b7a198a20018e909d9  0.040642  0.037719  0.011408  0.105617   \n",
       "205  63a2b688a198a20018e909db  0.113426  0.060145  0.031839  0.107438   \n",
       "206  63a2b83da198a20018e909df  0.102083  0.066264  0.028655  0.105352   \n",
       "207  63a2b900a198a20018e909e1  0.048611  0.190476  0.013645  0.076741   \n",
       "208  63a2b9c9a198a20018e909e3  0.110833  0.910053  0.031111  0.134986   \n",
       "\n",
       "     Javascript    Python   Python3  \n",
       "0      0.136431  0.058652  0.331156  \n",
       "1      0.105770  0.410028  0.272099  \n",
       "2      0.200560  0.086221  0.287669  \n",
       "3      0.004455  0.001915  0.260564  \n",
       "4      0.140643  0.060463  0.387390  \n",
       "..          ...       ...       ...  \n",
       "204    0.083191  0.035764  0.372475  \n",
       "205    0.232172  0.099812  0.238944  \n",
       "206    0.208955  0.089831  0.203811  \n",
       "207    0.099502  0.042776  0.343945  \n",
       "208    0.226866  0.097530  0.186713  \n",
       "\n",
       "[209 rows x 8 columns]"
      ]
     },
     "execution_count": 273,
     "metadata": {},
     "output_type": "execute_result"
    }
   ],
   "source": [
    "col_name = [\"ProblemId\",\"C\",\"C++\",\"Go\",\"Java\",\"Javascript\",\"Python\",\"Python3\"]\n",
    "df = pd.read_csv('../data/processed/success_score.csv')\n",
    "df.rename(columns = {'Unnamed: 0':'problemId'}, inplace = True)\n",
    "df"
   ]
  },
  {
   "cell_type": "code",
   "execution_count": 274,
   "metadata": {},
   "outputs": [],
   "source": [
    "from sklearn.neighbors import KNeighborsClassifier as KNN"
   ]
  },
  {
   "cell_type": "code",
   "execution_count": 275,
   "metadata": {},
   "outputs": [],
   "source": [
    "X = df.drop('problemId', axis=1)\n",
    "Y = df['problemId']"
   ]
  },
  {
   "cell_type": "code",
   "execution_count": 276,
   "metadata": {},
   "outputs": [],
   "source": [
    "from sklearn.model_selection import train_test_split\n",
    "\n",
    "x_train,x_test,y_train,y_test = train_test_split(X,Y, test_size=0.4, random_state=4)"
   ]
  },
  {
   "cell_type": "code",
   "execution_count": 277,
   "metadata": {},
   "outputs": [
    {
     "data": {
      "text/plain": [
       "((125, 7), (84, 7), (125,), (84,))"
      ]
     },
     "execution_count": 277,
     "metadata": {},
     "output_type": "execute_result"
    }
   ],
   "source": [
    "x_train.shape,x_test.shape,y_train.shape,y_test.shape"
   ]
  },
  {
   "cell_type": "code",
   "execution_count": 278,
   "metadata": {},
   "outputs": [
    {
     "name": "stderr",
     "output_type": "stream",
     "text": [
      "c:\\Users\\salman\\AppData\\Local\\Programs\\Python\\Python39\\lib\\site-packages\\sklearn\\base.py:441: UserWarning: X does not have valid feature names, but KNeighborsClassifier was fitted with feature names\n",
      "  warnings.warn(\n"
     ]
    }
   ],
   "source": [
    "knn = KNN(n_neighbors=3,algorithm='ball_tree')\n",
    "knn.fit(x_train, y_train)\n",
    "y_pred = knn.predict(x_test)"
   ]
  },
  {
   "cell_type": "code",
   "execution_count": 279,
   "metadata": {},
   "outputs": [],
   "source": [
    "y_test_sum = []\n",
    "\n",
    "for prob in y_test:\n",
    "    y_test_sum.append(sum(df[df['problemId'] == prob].to_numpy()[0,1:]))"
   ]
  },
  {
   "cell_type": "code",
   "execution_count": 280,
   "metadata": {},
   "outputs": [],
   "source": [
    "y_pred_sum = []\n",
    "\n",
    "for prob in y_pred:\n",
    "    y_pred_sum.append(sum(df[df['problemId'] == prob].to_numpy()[0,1:]))"
   ]
  },
  {
   "cell_type": "code",
   "execution_count": 281,
   "metadata": {},
   "outputs": [
    {
     "data": {
      "text/plain": [
       "(84, 84)"
      ]
     },
     "execution_count": 281,
     "metadata": {},
     "output_type": "execute_result"
    }
   ],
   "source": [
    "len(y_pred_sum),len(y_test_sum)"
   ]
  },
  {
   "cell_type": "code",
   "execution_count": 282,
   "metadata": {},
   "outputs": [
    {
     "data": {
      "text/plain": [
       "0.7200745586947008"
      ]
     },
     "execution_count": 282,
     "metadata": {},
     "output_type": "execute_result"
    }
   ],
   "source": [
    "from sklearn.metrics import r2_score\n",
    "\n",
    "r2_score(y_test_sum,y_pred_sum)"
   ]
  },
  {
   "cell_type": "code",
   "execution_count": 283,
   "metadata": {},
   "outputs": [],
   "source": [
    "from sklearn.metrics import r2_score\n",
    "def Evaluate(x_train,x_test,y_train,y_test):\n",
    "    res = []\n",
    "\n",
    "    for i in range(1,26):\n",
    "        knn = KNN(n_neighbors=i,algorithm='ball_tree')\n",
    "        knn.fit(x_train, y_train)\n",
    "        y_pred = knn.predict(x_test)\n",
    "\n",
    "        y_test_sum = []\n",
    "\n",
    "        for prob in y_test:\n",
    "            y_test_sum.append(sum(df[df['problemId'] == prob].to_numpy()[0,1:]))\n",
    "\n",
    "\n",
    "        y_pred_sum = []\n",
    "\n",
    "        for prob in y_pred:\n",
    "            y_pred_sum.append(sum(df[df['problemId'] == prob].to_numpy()[0,1:]))\n",
    "\n",
    "\n",
    "        res.append(r2_score(y_test_sum,y_pred_sum))\n",
    "\n",
    "    return res"
   ]
  },
  {
   "cell_type": "code",
   "execution_count": 284,
   "metadata": {},
   "outputs": [
    {
     "name": "stderr",
     "output_type": "stream",
     "text": [
      "c:\\Users\\salman\\AppData\\Local\\Programs\\Python\\Python39\\lib\\site-packages\\sklearn\\base.py:441: UserWarning: X does not have valid feature names, but KNeighborsClassifier was fitted with feature names\n",
      "  warnings.warn(\n",
      "c:\\Users\\salman\\AppData\\Local\\Programs\\Python\\Python39\\lib\\site-packages\\sklearn\\base.py:441: UserWarning: X does not have valid feature names, but KNeighborsClassifier was fitted with feature names\n",
      "  warnings.warn(\n",
      "c:\\Users\\salman\\AppData\\Local\\Programs\\Python\\Python39\\lib\\site-packages\\sklearn\\base.py:441: UserWarning: X does not have valid feature names, but KNeighborsClassifier was fitted with feature names\n",
      "  warnings.warn(\n",
      "c:\\Users\\salman\\AppData\\Local\\Programs\\Python\\Python39\\lib\\site-packages\\sklearn\\base.py:441: UserWarning: X does not have valid feature names, but KNeighborsClassifier was fitted with feature names\n",
      "  warnings.warn(\n",
      "c:\\Users\\salman\\AppData\\Local\\Programs\\Python\\Python39\\lib\\site-packages\\sklearn\\base.py:441: UserWarning: X does not have valid feature names, but KNeighborsClassifier was fitted with feature names\n",
      "  warnings.warn(\n",
      "c:\\Users\\salman\\AppData\\Local\\Programs\\Python\\Python39\\lib\\site-packages\\sklearn\\base.py:441: UserWarning: X does not have valid feature names, but KNeighborsClassifier was fitted with feature names\n",
      "  warnings.warn(\n",
      "c:\\Users\\salman\\AppData\\Local\\Programs\\Python\\Python39\\lib\\site-packages\\sklearn\\base.py:441: UserWarning: X does not have valid feature names, but KNeighborsClassifier was fitted with feature names\n",
      "  warnings.warn(\n",
      "c:\\Users\\salman\\AppData\\Local\\Programs\\Python\\Python39\\lib\\site-packages\\sklearn\\base.py:441: UserWarning: X does not have valid feature names, but KNeighborsClassifier was fitted with feature names\n",
      "  warnings.warn(\n",
      "c:\\Users\\salman\\AppData\\Local\\Programs\\Python\\Python39\\lib\\site-packages\\sklearn\\base.py:441: UserWarning: X does not have valid feature names, but KNeighborsClassifier was fitted with feature names\n",
      "  warnings.warn(\n",
      "c:\\Users\\salman\\AppData\\Local\\Programs\\Python\\Python39\\lib\\site-packages\\sklearn\\base.py:441: UserWarning: X does not have valid feature names, but KNeighborsClassifier was fitted with feature names\n",
      "  warnings.warn(\n",
      "c:\\Users\\salman\\AppData\\Local\\Programs\\Python\\Python39\\lib\\site-packages\\sklearn\\base.py:441: UserWarning: X does not have valid feature names, but KNeighborsClassifier was fitted with feature names\n",
      "  warnings.warn(\n",
      "c:\\Users\\salman\\AppData\\Local\\Programs\\Python\\Python39\\lib\\site-packages\\sklearn\\base.py:441: UserWarning: X does not have valid feature names, but KNeighborsClassifier was fitted with feature names\n",
      "  warnings.warn(\n",
      "c:\\Users\\salman\\AppData\\Local\\Programs\\Python\\Python39\\lib\\site-packages\\sklearn\\base.py:441: UserWarning: X does not have valid feature names, but KNeighborsClassifier was fitted with feature names\n",
      "  warnings.warn(\n",
      "c:\\Users\\salman\\AppData\\Local\\Programs\\Python\\Python39\\lib\\site-packages\\sklearn\\base.py:441: UserWarning: X does not have valid feature names, but KNeighborsClassifier was fitted with feature names\n",
      "  warnings.warn(\n",
      "c:\\Users\\salman\\AppData\\Local\\Programs\\Python\\Python39\\lib\\site-packages\\sklearn\\base.py:441: UserWarning: X does not have valid feature names, but KNeighborsClassifier was fitted with feature names\n",
      "  warnings.warn(\n",
      "c:\\Users\\salman\\AppData\\Local\\Programs\\Python\\Python39\\lib\\site-packages\\sklearn\\base.py:441: UserWarning: X does not have valid feature names, but KNeighborsClassifier was fitted with feature names\n",
      "  warnings.warn(\n",
      "c:\\Users\\salman\\AppData\\Local\\Programs\\Python\\Python39\\lib\\site-packages\\sklearn\\base.py:441: UserWarning: X does not have valid feature names, but KNeighborsClassifier was fitted with feature names\n",
      "  warnings.warn(\n",
      "c:\\Users\\salman\\AppData\\Local\\Programs\\Python\\Python39\\lib\\site-packages\\sklearn\\base.py:441: UserWarning: X does not have valid feature names, but KNeighborsClassifier was fitted with feature names\n",
      "  warnings.warn(\n",
      "c:\\Users\\salman\\AppData\\Local\\Programs\\Python\\Python39\\lib\\site-packages\\sklearn\\base.py:441: UserWarning: X does not have valid feature names, but KNeighborsClassifier was fitted with feature names\n",
      "  warnings.warn(\n",
      "c:\\Users\\salman\\AppData\\Local\\Programs\\Python\\Python39\\lib\\site-packages\\sklearn\\base.py:441: UserWarning: X does not have valid feature names, but KNeighborsClassifier was fitted with feature names\n",
      "  warnings.warn(\n",
      "c:\\Users\\salman\\AppData\\Local\\Programs\\Python\\Python39\\lib\\site-packages\\sklearn\\base.py:441: UserWarning: X does not have valid feature names, but KNeighborsClassifier was fitted with feature names\n",
      "  warnings.warn(\n",
      "c:\\Users\\salman\\AppData\\Local\\Programs\\Python\\Python39\\lib\\site-packages\\sklearn\\base.py:441: UserWarning: X does not have valid feature names, but KNeighborsClassifier was fitted with feature names\n",
      "  warnings.warn(\n",
      "c:\\Users\\salman\\AppData\\Local\\Programs\\Python\\Python39\\lib\\site-packages\\sklearn\\base.py:441: UserWarning: X does not have valid feature names, but KNeighborsClassifier was fitted with feature names\n",
      "  warnings.warn(\n",
      "c:\\Users\\salman\\AppData\\Local\\Programs\\Python\\Python39\\lib\\site-packages\\sklearn\\base.py:441: UserWarning: X does not have valid feature names, but KNeighborsClassifier was fitted with feature names\n",
      "  warnings.warn(\n",
      "c:\\Users\\salman\\AppData\\Local\\Programs\\Python\\Python39\\lib\\site-packages\\sklearn\\base.py:441: UserWarning: X does not have valid feature names, but KNeighborsClassifier was fitted with feature names\n",
      "  warnings.warn(\n"
     ]
    }
   ],
   "source": [
    "r = Evaluate(x_train,x_test,y_train,y_test)"
   ]
  },
  {
   "cell_type": "code",
   "execution_count": 285,
   "metadata": {},
   "outputs": [
    {
     "data": {
      "text/plain": [
       "0.8145151792886379"
      ]
     },
     "execution_count": 285,
     "metadata": {},
     "output_type": "execute_result"
    }
   ],
   "source": [
    "max(r)"
   ]
  },
  {
   "cell_type": "code",
   "execution_count": 286,
   "metadata": {},
   "outputs": [],
   "source": [
    "from sklearn.naive_bayes import GaussianNB\n",
    "\n",
    "gnb = GaussianNB()\n",
    "gnb.fit(x_train, y_train)\n",
    "y_pred = gnb.predict(x_test)\n"
   ]
  },
  {
   "cell_type": "code",
   "execution_count": 287,
   "metadata": {},
   "outputs": [],
   "source": [
    "y_test_sum = []\n",
    "\n",
    "for prob in y_test:\n",
    "    y_test_sum.append(sum(df[df['problemId'] == prob].to_numpy()[0,1:]))"
   ]
  },
  {
   "cell_type": "code",
   "execution_count": 288,
   "metadata": {},
   "outputs": [
    {
     "data": {
      "text/plain": [
       "(84, 84)"
      ]
     },
     "execution_count": 288,
     "metadata": {},
     "output_type": "execute_result"
    }
   ],
   "source": [
    "len(y_test_sum),len(y_pred)"
   ]
  },
  {
   "cell_type": "code",
   "execution_count": 289,
   "metadata": {},
   "outputs": [],
   "source": [
    "y_pred_sum = []\n",
    "\n",
    "for prob in y_pred:\n",
    "    y_pred_sum.append(sum(df[df['problemId'] == prob].to_numpy()[0,1:]))\n"
   ]
  },
  {
   "cell_type": "code",
   "execution_count": 290,
   "metadata": {},
   "outputs": [
    {
     "data": {
      "text/plain": [
       "0.8145151792886379"
      ]
     },
     "execution_count": 290,
     "metadata": {},
     "output_type": "execute_result"
    }
   ],
   "source": [
    "r2_score(y_test_sum,y_pred_sum)"
   ]
  },
  {
   "cell_type": "code",
   "execution_count": 291,
   "metadata": {},
   "outputs": [
    {
     "name": "stderr",
     "output_type": "stream",
     "text": [
      "c:\\Users\\salman\\AppData\\Local\\Programs\\Python\\Python39\\lib\\site-packages\\sklearn\\base.py:441: UserWarning: X does not have valid feature names, but KNeighborsClassifier was fitted with feature names\n",
      "  warnings.warn(\n"
     ]
    }
   ],
   "source": [
    "# using algorithm='kd_tree' instead of 'ball_tree' gives better results\n",
    "\n",
    "from sklearn.neighbors import KNeighborsClassifier as KNN\n",
    "\n",
    "kn = KNN(n_neighbors=3,algorithm='kd_tree')\n",
    "kn.fit(x_train, y_train)\n",
    "y_pred = kn.predict(x_test)"
   ]
  },
  {
   "cell_type": "code",
   "execution_count": 292,
   "metadata": {},
   "outputs": [],
   "source": [
    "def calytest_sum(y_test):\n",
    "    y_test_sum = []\n",
    "\n",
    "    for prob in y_test:\n",
    "        y_test_sum.append(sum(df[df['problemId'] == prob].to_numpy()[0,1:]))\n",
    "    return y_test_sum"
   ]
  },
  {
   "cell_type": "code",
   "execution_count": 293,
   "metadata": {},
   "outputs": [],
   "source": [
    "def calypred_sum(y_pred):\n",
    "    y_pred_sum = []\n",
    "\n",
    "    for prob in y_pred:\n",
    "        y_pred_sum.append(sum(df[df['problemId'] == prob].to_numpy()[0,1:]))\n",
    "    return y_pred_sum"
   ]
  },
  {
   "cell_type": "code",
   "execution_count": 294,
   "metadata": {},
   "outputs": [],
   "source": [
    "yknn,ypredknn = calytest_sum(y_test),calypred_sum(y_pred)"
   ]
  },
  {
   "cell_type": "code",
   "execution_count": 295,
   "metadata": {},
   "outputs": [
    {
     "data": {
      "text/plain": [
       "0.7200745586947008"
      ]
     },
     "execution_count": 295,
     "metadata": {},
     "output_type": "execute_result"
    }
   ],
   "source": [
    "r2_score(yknn,ypredknn)"
   ]
  },
  {
   "cell_type": "code",
   "execution_count": 296,
   "metadata": {},
   "outputs": [],
   "source": [
    "# classification algorithms\n",
    "# 1. KNN\n",
    "# 2. Naive Bayes\n",
    "# 3. Decision Tree\n",
    "# 4. Random Forest\n",
    "# 5. SVM\n",
    "# 6. Logistic Regression\n",
    "# 7. Neural Network\n",
    "# 8. XGBoost\n",
    "# 9. AdaBoost\n",
    "# 10. Gradient Boosting \n",
    "# 11. Bagging\n",
    "\n",
    "from sklearn.metrics import r2_score,mean_squared_error,mean_absolute_error\n",
    "from math import sqrt\n",
    "from collections import defaultdict\n",
    "eval = defaultdict(dict)"
   ]
  },
  {
   "attachments": {},
   "cell_type": "markdown",
   "metadata": {},
   "source": [
    "## KNN"
   ]
  },
  {
   "cell_type": "code",
   "execution_count": 297,
   "metadata": {},
   "outputs": [
    {
     "name": "stderr",
     "output_type": "stream",
     "text": [
      "c:\\Users\\salman\\AppData\\Local\\Programs\\Python\\Python39\\lib\\site-packages\\sklearn\\base.py:441: UserWarning: X does not have valid feature names, but KNeighborsClassifier was fitted with feature names\n",
      "  warnings.warn(\n"
     ]
    }
   ],
   "source": [
    "from sklearn.neighbors import KNeighborsClassifier as KNN\n",
    "\n",
    "knn = KNN(n_neighbors=1,algorithm='ball_tree')\n",
    "knn.fit(x_train, y_train)\n",
    "y_pred = knn.predict(x_test)"
   ]
  },
  {
   "cell_type": "code",
   "execution_count": 298,
   "metadata": {},
   "outputs": [],
   "source": [
    "y_pred_knn_sum = calypred_sum(y_pred)\n",
    "y_test_knn_sum = calytest_sum(y_test)"
   ]
  },
  {
   "cell_type": "code",
   "execution_count": 299,
   "metadata": {},
   "outputs": [
    {
     "data": {
      "text/plain": [
       "(0.8145151792886379,\n",
       " 0.015343077078923462,\n",
       " 0.07383761320294485,\n",
       " 0.12386717514710449)"
      ]
     },
     "execution_count": 299,
     "metadata": {},
     "output_type": "execute_result"
    }
   ],
   "source": [
    "r2_score(y_test_knn_sum,y_pred_knn_sum),mean_squared_error(y_test_knn_sum,y_pred_knn_sum),mean_absolute_error(y_test_knn_sum,y_pred_knn_sum), sqrt(mean_squared_error(y_test_knn_sum,y_pred_knn_sum))"
   ]
  },
  {
   "cell_type": "code",
   "execution_count": 300,
   "metadata": {},
   "outputs": [],
   "source": [
    "eval['KNN'] = {'r2_score':r2_score(y_test_knn_sum,y_pred_knn_sum),'mean_squared_error':mean_squared_error(y_test_knn_sum,y_pred_knn_sum),'mean_absolute_error':mean_absolute_error(y_test_knn_sum,y_pred_knn_sum),'root_mean_squared_error':sqrt(mean_squared_error(y_test_knn_sum,y_pred_knn_sum))}"
   ]
  },
  {
   "attachments": {},
   "cell_type": "markdown",
   "metadata": {},
   "source": [
    "## Naive Bayers"
   ]
  },
  {
   "cell_type": "code",
   "execution_count": 301,
   "metadata": {},
   "outputs": [],
   "source": [
    "from sklearn.naive_bayes import GaussianNB\n",
    "\n",
    "gnb = GaussianNB()\n",
    "gnb.fit(x_train, y_train)\n",
    "y_pred = gnb.predict(x_test)"
   ]
  },
  {
   "cell_type": "code",
   "execution_count": 302,
   "metadata": {},
   "outputs": [],
   "source": [
    "y_pred_gnb_sum = calypred_sum(y_pred)\n",
    "y_test_gnb_sum = calytest_sum(y_test)"
   ]
  },
  {
   "cell_type": "code",
   "execution_count": 303,
   "metadata": {},
   "outputs": [
    {
     "data": {
      "text/plain": [
       "(0.8145151792886379,\n",
       " 0.015343077078923462,\n",
       " 0.07383761320294485,\n",
       " 0.12386717514710449)"
      ]
     },
     "execution_count": 303,
     "metadata": {},
     "output_type": "execute_result"
    }
   ],
   "source": [
    "r2_score(y_test_gnb_sum,y_pred_gnb_sum),mean_squared_error(y_test_gnb_sum,y_pred_gnb_sum),mean_absolute_error(y_test_gnb_sum,y_pred_gnb_sum), sqrt(mean_squared_error(y_test_gnb_sum,y_pred_gnb_sum))"
   ]
  },
  {
   "cell_type": "code",
   "execution_count": 304,
   "metadata": {},
   "outputs": [],
   "source": [
    "eval['Naive Bayes'] = {'r2_score':r2_score(y_test_gnb_sum,y_pred_gnb_sum),'mean_squared_error':mean_squared_error(y_test_gnb_sum,y_pred_gnb_sum),'mean_absolute_error':mean_absolute_error(y_test_gnb_sum,y_pred_gnb_sum),'root_mean_squared_error':sqrt(mean_squared_error(y_test_gnb_sum,y_pred_gnb_sum))}"
   ]
  },
  {
   "attachments": {},
   "cell_type": "markdown",
   "metadata": {},
   "source": [
    "## Decision Tree"
   ]
  },
  {
   "cell_type": "code",
   "execution_count": 305,
   "metadata": {},
   "outputs": [],
   "source": [
    "from sklearn.tree import DecisionTreeClassifier\n",
    "\n",
    "dt = DecisionTreeClassifier()\n",
    "dt.fit(x_train, y_train)\n",
    "y_pred_dt = dt.predict(x_test)"
   ]
  },
  {
   "cell_type": "code",
   "execution_count": 306,
   "metadata": {},
   "outputs": [],
   "source": [
    "y_pred_dt_sum = calypred_sum(y_pred_dt)\n",
    "y_test_dt_sum = calytest_sum(y_test)"
   ]
  },
  {
   "cell_type": "code",
   "execution_count": 307,
   "metadata": {},
   "outputs": [
    {
     "data": {
      "text/plain": [
       "(-0.6273841469229255,\n",
       " 0.13461522246131183,\n",
       " 0.2283397929901205,\n",
       " 0.3668994718738524)"
      ]
     },
     "execution_count": 307,
     "metadata": {},
     "output_type": "execute_result"
    }
   ],
   "source": [
    "from sklearn.metrics import r2_score,mean_squared_error\n",
    "r2_score(y_test_dt_sum,y_pred_dt_sum) , mean_squared_error(y_test_dt_sum,y_pred_dt_sum), mean_absolute_error(y_test_dt_sum,y_pred_dt_sum), sqrt(mean_squared_error(y_test_dt_sum,y_pred_dt_sum))"
   ]
  },
  {
   "cell_type": "code",
   "execution_count": 308,
   "metadata": {},
   "outputs": [],
   "source": [
    "eval['Decision Tree'] = {'r2_score':r2_score(y_test_dt_sum,y_pred_dt_sum),'mean_squared_error':mean_squared_error(y_test_dt_sum,y_pred_dt_sum),'mean_absolute_error':mean_absolute_error(y_test_dt_sum,y_pred_dt_sum),'root_mean_squared_error':sqrt(mean_squared_error(y_test_dt_sum,y_pred_dt_sum))}"
   ]
  },
  {
   "attachments": {},
   "cell_type": "markdown",
   "metadata": {},
   "source": [
    "## Random Forest"
   ]
  },
  {
   "cell_type": "code",
   "execution_count": 309,
   "metadata": {},
   "outputs": [],
   "source": [
    "from sklearn.ensemble import RandomForestClassifier\n",
    "\n",
    "rf = RandomForestClassifier()\n",
    "rf.fit(x_train, y_train)\n",
    "y_pred_rf = rf.predict(x_test)"
   ]
  },
  {
   "cell_type": "code",
   "execution_count": 310,
   "metadata": {},
   "outputs": [],
   "source": [
    "y_pred_rf_sum = calypred_sum(y_pred_rf)\n",
    "y_test_rf_sum = calytest_sum(y_test)"
   ]
  },
  {
   "cell_type": "code",
   "execution_count": 311,
   "metadata": {},
   "outputs": [
    {
     "data": {
      "text/plain": [
       "(0.528552618402435,\n",
       " 0.03899754970119228,\n",
       " 0.10853409311244282,\n",
       " 0.19747797269870956)"
      ]
     },
     "execution_count": 311,
     "metadata": {},
     "output_type": "execute_result"
    }
   ],
   "source": [
    "r2_score(y_test_rf_sum,y_pred_rf_sum) , mean_squared_error(y_test_rf_sum,y_pred_rf_sum) , mean_absolute_error(y_test_rf_sum,y_pred_rf_sum) , sqrt(mean_squared_error(y_test_rf_sum,y_pred_rf_sum))"
   ]
  },
  {
   "cell_type": "code",
   "execution_count": 312,
   "metadata": {},
   "outputs": [],
   "source": [
    "eval['Random Forest'] = {'r2_score':r2_score(y_test_rf_sum,y_pred_rf_sum),'mean_squared_error':mean_squared_error(y_test_rf_sum,y_pred_rf_sum),'mean_absolute_error':mean_absolute_error(y_test_rf_sum,y_pred_rf_sum),'root_mean_squared_error':sqrt(mean_squared_error(y_test_rf_sum,y_pred_rf_sum))}"
   ]
  },
  {
   "attachments": {},
   "cell_type": "markdown",
   "metadata": {},
   "source": [
    "## SVM"
   ]
  },
  {
   "cell_type": "code",
   "execution_count": 313,
   "metadata": {},
   "outputs": [],
   "source": [
    "from sklearn.svm import SVC\n",
    "\n",
    "svm = SVC()\n",
    "svm.fit(x_train, y_train)\n",
    "y_pred_svm = svm.predict(x_test)"
   ]
  },
  {
   "cell_type": "code",
   "execution_count": 314,
   "metadata": {},
   "outputs": [],
   "source": [
    "y_pred_svm_sum = calypred_sum(y_pred_svm)\n",
    "y_test_svm_sum = calytest_sum(y_test)"
   ]
  },
  {
   "cell_type": "code",
   "execution_count": 315,
   "metadata": {},
   "outputs": [
    {
     "data": {
      "text/plain": [
       "(0.8145151792886379,\n",
       " 0.015343077078923462,\n",
       " 0.07383761320294485,\n",
       " 0.12386717514710449)"
      ]
     },
     "execution_count": 315,
     "metadata": {},
     "output_type": "execute_result"
    }
   ],
   "source": [
    "r2_score(y_test_svm_sum,y_pred_svm_sum) , mean_squared_error(y_test_svm_sum,y_pred_svm_sum) , mean_absolute_error(y_test_svm_sum,y_pred_svm_sum), sqrt(mean_squared_error(y_test_svm_sum,y_pred_svm_sum))"
   ]
  },
  {
   "cell_type": "code",
   "execution_count": 316,
   "metadata": {},
   "outputs": [],
   "source": [
    "eval['SVM'] = {'r2_score':r2_score(y_test_svm_sum,y_pred_svm_sum),'mean_squared_error':mean_squared_error(y_test_svm_sum,y_pred_svm_sum),'mean_absolute_error':mean_absolute_error(y_test_svm_sum,y_pred_svm_sum),'root_mean_squared_error':sqrt(mean_squared_error(y_test_svm_sum,y_pred_svm_sum))}"
   ]
  },
  {
   "attachments": {},
   "cell_type": "markdown",
   "metadata": {},
   "source": [
    "## Logistic Regression"
   ]
  },
  {
   "cell_type": "code",
   "execution_count": 317,
   "metadata": {},
   "outputs": [],
   "source": [
    "from sklearn.linear_model import LogisticRegression\n",
    "\n",
    "lr = LogisticRegression()\n",
    "lr.fit(x_train, y_train)\n",
    "y_pred_lr = lr.predict(x_test)"
   ]
  },
  {
   "cell_type": "code",
   "execution_count": 318,
   "metadata": {},
   "outputs": [],
   "source": [
    "y_pred_lr_sum = calypred_sum(y_pred_lr)\n",
    "y_test_lr_sum = calytest_sum(y_test)"
   ]
  },
  {
   "cell_type": "code",
   "execution_count": 319,
   "metadata": {},
   "outputs": [
    {
     "data": {
      "text/plain": [
       "(-3.107577756101474,\n",
       " 0.3397737986204703,\n",
       " 0.5274175172508873,\n",
       " 0.5829011911297405)"
      ]
     },
     "execution_count": 319,
     "metadata": {},
     "output_type": "execute_result"
    }
   ],
   "source": [
    "r2_score(y_test_lr_sum,y_pred_lr_sum) , mean_squared_error(y_test_lr_sum,y_pred_lr_sum) , mean_absolute_error(y_test_lr_sum,y_pred_lr_sum) , sqrt(mean_squared_error(y_test_lr_sum,y_pred_lr_sum))"
   ]
  },
  {
   "cell_type": "code",
   "execution_count": 320,
   "metadata": {},
   "outputs": [],
   "source": [
    "eval['Logistic Regression'] = {'r2_score':r2_score(y_test_lr_sum,y_pred_lr_sum),'mean_squared_error':mean_squared_error(y_test_lr_sum,y_pred_lr_sum),'mean_absolute_error':mean_absolute_error(y_test_lr_sum,y_pred_lr_sum),'root_mean_squared_error':sqrt(mean_squared_error(y_test_lr_sum,y_pred_lr_sum))}"
   ]
  },
  {
   "attachments": {},
   "cell_type": "markdown",
   "metadata": {},
   "source": [
    "## Neural Network"
   ]
  },
  {
   "cell_type": "code",
   "execution_count": 321,
   "metadata": {},
   "outputs": [
    {
     "name": "stderr",
     "output_type": "stream",
     "text": [
      "c:\\Users\\salman\\AppData\\Local\\Programs\\Python\\Python39\\lib\\site-packages\\sklearn\\neural_network\\_multilayer_perceptron.py:692: ConvergenceWarning: Stochastic Optimizer: Maximum iterations (200) reached and the optimization hasn't converged yet.\n",
      "  warnings.warn(\n"
     ]
    }
   ],
   "source": [
    "from sklearn.neural_network import MLPClassifier\n",
    "\n",
    "nn = MLPClassifier()\n",
    "nn.fit(x_train, y_train)\n",
    "y_pred_nn = nn.predict(x_test)"
   ]
  },
  {
   "cell_type": "code",
   "execution_count": 322,
   "metadata": {},
   "outputs": [],
   "source": [
    "y_pred_nn_sum = calypred_sum(y_pred_nn)\n",
    "y_test_nn_sum = calytest_sum(y_test)"
   ]
  },
  {
   "cell_type": "code",
   "execution_count": 323,
   "metadata": {},
   "outputs": [
    {
     "data": {
      "text/plain": [
       "(0.5675306413409503,\n",
       " 0.035773335406803636,\n",
       " 0.12116328774280254,\n",
       " 0.18913840278167635)"
      ]
     },
     "execution_count": 323,
     "metadata": {},
     "output_type": "execute_result"
    }
   ],
   "source": [
    "r2_score(y_test_nn_sum,y_pred_nn_sum) , mean_squared_error(y_test_nn_sum,y_pred_nn_sum) , mean_absolute_error(y_test_nn_sum,y_pred_nn_sum) , sqrt(mean_squared_error(y_test_nn_sum,y_pred_nn_sum))"
   ]
  },
  {
   "cell_type": "code",
   "execution_count": 324,
   "metadata": {},
   "outputs": [],
   "source": [
    "eval['Neural Network'] = {'r2_score':r2_score(y_test_nn_sum,y_pred_nn_sum),'mean_squared_error':mean_squared_error(y_test_nn_sum,y_pred_nn_sum),'mean_absolute_error':mean_absolute_error(y_test_nn_sum,y_pred_nn_sum),'root_mean_squared_error':sqrt(mean_squared_error(y_test_nn_sum,y_pred_nn_sum))}"
   ]
  },
  {
   "attachments": {},
   "cell_type": "markdown",
   "metadata": {},
   "source": [
    "## XGBoost"
   ]
  },
  {
   "cell_type": "code",
   "execution_count": 325,
   "metadata": {},
   "outputs": [
    {
     "name": "stderr",
     "output_type": "stream",
     "text": [
      "c:\\Users\\salman\\AppData\\Local\\Programs\\Python\\Python39\\lib\\site-packages\\xgboost\\sklearn.py:1224: UserWarning: The use of label encoder in XGBClassifier is deprecated and will be removed in a future release. To remove this warning, do the following: 1) Pass option use_label_encoder=False when constructing XGBClassifier object; and 2) Encode your labels (y) as integers starting with 0, i.e. 0, 1, 2, ..., [num_class - 1].\n",
      "  warnings.warn(label_encoder_deprecation_msg, UserWarning)\n",
      "c:\\Users\\salman\\AppData\\Local\\Programs\\Python\\Python39\\lib\\site-packages\\xgboost\\data.py:262: FutureWarning: pandas.Int64Index is deprecated and will be removed from pandas in a future version. Use pandas.Index with the appropriate dtype instead.\n",
      "  elif isinstance(data.columns, (pd.Int64Index, pd.RangeIndex)):\n"
     ]
    },
    {
     "name": "stdout",
     "output_type": "stream",
     "text": [
      "[13:35:35] WARNING: C:/Users/Administrator/workspace/xgboost-win64_release_1.5.1/src/learner.cc:1115: Starting in XGBoost 1.3.0, the default evaluation metric used with the objective 'multi:softprob' was changed from 'merror' to 'mlogloss'. Explicitly set eval_metric if you'd like to restore the old behavior.\n"
     ]
    }
   ],
   "source": [
    "from xgboost import XGBClassifier\n",
    "\n",
    "xgb = XGBClassifier()\n",
    "xgb.fit(x_train, y_train)\n",
    "y_pred_xgb = xgb.predict(x_test)"
   ]
  },
  {
   "cell_type": "code",
   "execution_count": 326,
   "metadata": {},
   "outputs": [],
   "source": [
    "y_pred_xgb_sum = calypred_sum(y_pred_xgb)\n",
    "y_test_xgb_sum = calytest_sum(y_test)"
   ]
  },
  {
   "cell_type": "code",
   "execution_count": 327,
   "metadata": {},
   "outputs": [
    {
     "data": {
      "text/plain": [
       "(-0.0331123648746543,\n",
       " 0.08545778886201731,\n",
       " 0.20364003615027199,\n",
       " 0.29233164191037775)"
      ]
     },
     "execution_count": 327,
     "metadata": {},
     "output_type": "execute_result"
    }
   ],
   "source": [
    "r2_score(y_test_xgb_sum,y_pred_xgb_sum) , mean_squared_error(y_test_xgb_sum,y_pred_xgb_sum) , mean_absolute_error(y_test_xgb_sum,y_pred_xgb_sum) , sqrt(mean_squared_error(y_test_xgb_sum,y_pred_xgb_sum))"
   ]
  },
  {
   "cell_type": "code",
   "execution_count": 328,
   "metadata": {},
   "outputs": [],
   "source": [
    "eval['XGBoost'] = {'r2_score':r2_score(y_test_xgb_sum,y_pred_xgb_sum),'mean_squared_error':mean_squared_error(y_test_xgb_sum,y_pred_xgb_sum),'mean_absolute_error':mean_absolute_error(y_test_xgb_sum,y_pred_xgb_sum),'root_mean_squared_error':sqrt(mean_squared_error(y_test_xgb_sum,y_pred_xgb_sum))}"
   ]
  },
  {
   "attachments": {},
   "cell_type": "markdown",
   "metadata": {},
   "source": [
    "## AdaBoost"
   ]
  },
  {
   "cell_type": "code",
   "execution_count": 329,
   "metadata": {},
   "outputs": [
    {
     "name": "stderr",
     "output_type": "stream",
     "text": [
      "c:\\Users\\salman\\AppData\\Local\\Programs\\Python\\Python39\\lib\\site-packages\\sklearn\\base.py:441: UserWarning: X does not have valid feature names, but AdaBoostClassifier was fitted with feature names\n",
      "  warnings.warn(\n"
     ]
    }
   ],
   "source": [
    "from sklearn.ensemble import AdaBoostClassifier\n",
    "\n",
    "ada = AdaBoostClassifier()\n",
    "ada.fit(x_train, y_train)\n",
    "y_pred_ada = ada.predict(x_test)"
   ]
  },
  {
   "cell_type": "code",
   "execution_count": 330,
   "metadata": {},
   "outputs": [],
   "source": [
    "y_pred_ada_sum = calypred_sum(y_pred_ada)\n",
    "y_test_ada_sum = calytest_sum(y_test)"
   ]
  },
  {
   "cell_type": "code",
   "execution_count": 331,
   "metadata": {},
   "outputs": [
    {
     "data": {
      "text/plain": [
       "(0.42838512523672945,\n",
       " 0.04728328199211399,\n",
       " 0.1710928597959663,\n",
       " 0.21744719357148298)"
      ]
     },
     "execution_count": 331,
     "metadata": {},
     "output_type": "execute_result"
    }
   ],
   "source": [
    "r2_score(y_test_ada_sum,y_pred_ada_sum) , mean_squared_error(y_test_ada_sum,y_pred_ada_sum), mean_absolute_error(y_test_ada_sum,y_pred_ada_sum) , sqrt(mean_squared_error(y_test_ada_sum,y_pred_ada_sum))"
   ]
  },
  {
   "cell_type": "code",
   "execution_count": 332,
   "metadata": {},
   "outputs": [],
   "source": [
    "eval['adaBoost'] = {'r2_score':r2_score(y_test_ada_sum,y_pred_ada_sum),'mean_squared_error':mean_squared_error(y_test_ada_sum,y_pred_ada_sum),'mean_absolute_error':mean_absolute_error(y_test_ada_sum,y_pred_ada_sum),'root_mean_squared_error':sqrt(mean_squared_error(y_test_ada_sum,y_pred_ada_sum))}"
   ]
  },
  {
   "attachments": {},
   "cell_type": "markdown",
   "metadata": {},
   "source": [
    "## Gradient Boosting"
   ]
  },
  {
   "cell_type": "code",
   "execution_count": 333,
   "metadata": {},
   "outputs": [],
   "source": [
    "from sklearn.ensemble import GradientBoostingClassifier\n",
    "\n",
    "gb = GradientBoostingClassifier()\n",
    "gb.fit(x_train, y_train)\n",
    "y_pred_gb = gb.predict(x_test)"
   ]
  },
  {
   "cell_type": "code",
   "execution_count": 334,
   "metadata": {},
   "outputs": [],
   "source": [
    "y_pred_gb_sum = calypred_sum(y_pred_gb)\n",
    "y_test_gb_sum = calytest_sum(y_test)"
   ]
  },
  {
   "cell_type": "code",
   "execution_count": 335,
   "metadata": {},
   "outputs": [
    {
     "data": {
      "text/plain": [
       "(0.47643310274520234,\n",
       " 0.04330881216988492,\n",
       " 0.1276680223388032,\n",
       " 0.2081076936825857)"
      ]
     },
     "execution_count": 335,
     "metadata": {},
     "output_type": "execute_result"
    }
   ],
   "source": [
    "r2_score(y_test_gb_sum,y_pred_gb_sum) , mean_squared_error(y_test_gb_sum,y_pred_gb_sum) , mean_absolute_error(y_test_gb_sum,y_pred_gb_sum) , sqrt(mean_squared_error(y_test_gb_sum,y_pred_gb_sum))"
   ]
  },
  {
   "cell_type": "code",
   "execution_count": 336,
   "metadata": {},
   "outputs": [],
   "source": [
    "eval['Gradient Boosting'] = {'r2_score':r2_score(y_test_gb_sum,y_pred_gb_sum),'mean_squared_error':mean_squared_error(y_test_gb_sum,y_pred_gb_sum),'mean_absolute_error':mean_absolute_error(y_test_gb_sum,y_pred_gb_sum),'root_mean_squared_error':sqrt(mean_squared_error(y_test_gb_sum,y_pred_gb_sum))}"
   ]
  },
  {
   "attachments": {},
   "cell_type": "markdown",
   "metadata": {},
   "source": [
    "## Bagging"
   ]
  },
  {
   "cell_type": "code",
   "execution_count": 337,
   "metadata": {},
   "outputs": [],
   "source": [
    "from sklearn.ensemble import BaggingClassifier\n",
    "\n",
    "bag = BaggingClassifier()\n",
    "bag.fit(x_train, y_train)\n",
    "y_pred_bag = bag.predict(x_test)"
   ]
  },
  {
   "cell_type": "code",
   "execution_count": 338,
   "metadata": {},
   "outputs": [],
   "source": [
    "y_pred_bag_sum = calypred_sum(y_pred_bag)\n",
    "y_test_bag_sum = calytest_sum(y_test)"
   ]
  },
  {
   "cell_type": "code",
   "execution_count": 339,
   "metadata": {},
   "outputs": [
    {
     "data": {
      "text/plain": [
       "(0.3568462834310199,\n",
       " 0.05320088732365732,\n",
       " 0.13103104421091447,\n",
       " 0.23065317540336902)"
      ]
     },
     "execution_count": 339,
     "metadata": {},
     "output_type": "execute_result"
    }
   ],
   "source": [
    "r2_score(y_test_bag_sum,y_pred_bag_sum) , mean_squared_error(y_test_bag_sum,y_pred_bag_sum) , mean_absolute_error(y_test_bag_sum,y_pred_bag_sum) , sqrt(mean_squared_error(y_test_bag_sum,y_pred_bag_sum))"
   ]
  },
  {
   "cell_type": "code",
   "execution_count": 340,
   "metadata": {},
   "outputs": [],
   "source": [
    "eval['Bagging'] = {'r2_score':r2_score(y_test_bag_sum,y_pred_bag_sum),'mean_squared_error':mean_squared_error(y_test_bag_sum,y_pred_bag_sum),'mean_absolute_error':mean_absolute_error(y_test_bag_sum,y_pred_bag_sum),'root_mean_squared_error':sqrt(mean_squared_error(y_test_bag_sum,y_pred_bag_sum))}"
   ]
  },
  {
   "cell_type": "code",
   "execution_count": 341,
   "metadata": {},
   "outputs": [
    {
     "data": {
      "text/plain": [
       "11"
      ]
     },
     "execution_count": 341,
     "metadata": {},
     "output_type": "execute_result"
    }
   ],
   "source": [
    "len(eval)"
   ]
  },
  {
   "cell_type": "code",
   "execution_count": 342,
   "metadata": {},
   "outputs": [
    {
     "data": {
      "text/plain": [
       "defaultdict(dict,\n",
       "            {'KNN': {'r2_score': 0.8145151792886379,\n",
       "              'mean_squared_error': 0.015343077078923462,\n",
       "              'mean_absolute_error': 0.07383761320294485,\n",
       "              'root_mean_squared_error': 0.12386717514710449},\n",
       "             'Naive Bayes': {'r2_score': 0.8145151792886379,\n",
       "              'mean_squared_error': 0.015343077078923462,\n",
       "              'mean_absolute_error': 0.07383761320294485,\n",
       "              'root_mean_squared_error': 0.12386717514710449},\n",
       "             'Decision Tree': {'r2_score': -0.6273841469229255,\n",
       "              'mean_squared_error': 0.13461522246131183,\n",
       "              'mean_absolute_error': 0.2283397929901205,\n",
       "              'root_mean_squared_error': 0.3668994718738524},\n",
       "             'Random Forest': {'r2_score': 0.528552618402435,\n",
       "              'mean_squared_error': 0.03899754970119228,\n",
       "              'mean_absolute_error': 0.10853409311244282,\n",
       "              'root_mean_squared_error': 0.19747797269870956},\n",
       "             'SVM': {'r2_score': 0.8145151792886379,\n",
       "              'mean_squared_error': 0.015343077078923462,\n",
       "              'mean_absolute_error': 0.07383761320294485,\n",
       "              'root_mean_squared_error': 0.12386717514710449},\n",
       "             'Logistic Regression': {'r2_score': -3.107577756101474,\n",
       "              'mean_squared_error': 0.3397737986204703,\n",
       "              'mean_absolute_error': 0.5274175172508873,\n",
       "              'root_mean_squared_error': 0.5829011911297405},\n",
       "             'Neural Network': {'r2_score': 0.5675306413409503,\n",
       "              'mean_squared_error': 0.035773335406803636,\n",
       "              'mean_absolute_error': 0.12116328774280254,\n",
       "              'root_mean_squared_error': 0.18913840278167635},\n",
       "             'XGBoost': {'r2_score': -0.0331123648746543,\n",
       "              'mean_squared_error': 0.08545778886201731,\n",
       "              'mean_absolute_error': 0.20364003615027199,\n",
       "              'root_mean_squared_error': 0.29233164191037775},\n",
       "             'adaBoost': {'r2_score': 0.42838512523672945,\n",
       "              'mean_squared_error': 0.04728328199211399,\n",
       "              'mean_absolute_error': 0.1710928597959663,\n",
       "              'root_mean_squared_error': 0.21744719357148298},\n",
       "             'Gradient Boosting': {'r2_score': 0.47643310274520234,\n",
       "              'mean_squared_error': 0.04330881216988492,\n",
       "              'mean_absolute_error': 0.1276680223388032,\n",
       "              'root_mean_squared_error': 0.2081076936825857},\n",
       "             'Bagging': {'r2_score': 0.3568462834310199,\n",
       "              'mean_squared_error': 0.05320088732365732,\n",
       "              'mean_absolute_error': 0.13103104421091447,\n",
       "              'root_mean_squared_error': 0.23065317540336902}})"
      ]
     },
     "execution_count": 342,
     "metadata": {},
     "output_type": "execute_result"
    }
   ],
   "source": [
    "eval"
   ]
  },
  {
   "attachments": {},
   "cell_type": "markdown",
   "metadata": {},
   "source": [
    "## Ploting Graphs"
   ]
  },
  {
   "cell_type": "code",
   "execution_count": 343,
   "metadata": {},
   "outputs": [],
   "source": [
    "import matplotlib.pyplot as plt\n",
    "import seaborn as sns\n",
    "import scipy.stats as stats\n",
    "import pylab\n",
    "\n",
    "%matplotlib inline"
   ]
  },
  {
   "cell_type": "code",
   "execution_count": 365,
   "metadata": {},
   "outputs": [
    {
     "data": {
      "text/html": [
       "<div>\n",
       "<style scoped>\n",
       "    .dataframe tbody tr th:only-of-type {\n",
       "        vertical-align: middle;\n",
       "    }\n",
       "\n",
       "    .dataframe tbody tr th {\n",
       "        vertical-align: top;\n",
       "    }\n",
       "\n",
       "    .dataframe thead th {\n",
       "        text-align: right;\n",
       "    }\n",
       "</style>\n",
       "<table border=\"1\" class=\"dataframe\">\n",
       "  <thead>\n",
       "    <tr style=\"text-align: right;\">\n",
       "      <th></th>\n",
       "      <th>KNN</th>\n",
       "      <th>Naive Bayes</th>\n",
       "      <th>Decision Tree</th>\n",
       "      <th>Random Forest</th>\n",
       "      <th>SVM</th>\n",
       "      <th>Logistic Regression</th>\n",
       "      <th>Neural Network</th>\n",
       "      <th>XGBoost</th>\n",
       "      <th>adaBoost</th>\n",
       "      <th>Gradient Boosting</th>\n",
       "      <th>Bagging</th>\n",
       "    </tr>\n",
       "  </thead>\n",
       "  <tbody>\n",
       "    <tr>\n",
       "      <th>R2 Score</th>\n",
       "      <td>0.814515</td>\n",
       "      <td>0.814515</td>\n",
       "      <td>-0.627384</td>\n",
       "      <td>0.528553</td>\n",
       "      <td>0.814515</td>\n",
       "      <td>-3.107578</td>\n",
       "      <td>0.567531</td>\n",
       "      <td>-0.033112</td>\n",
       "      <td>0.428385</td>\n",
       "      <td>0.476433</td>\n",
       "      <td>0.356846</td>\n",
       "    </tr>\n",
       "    <tr>\n",
       "      <th>Mean Squared Error</th>\n",
       "      <td>0.015343</td>\n",
       "      <td>0.015343</td>\n",
       "      <td>0.134615</td>\n",
       "      <td>0.038998</td>\n",
       "      <td>0.015343</td>\n",
       "      <td>0.339774</td>\n",
       "      <td>0.035773</td>\n",
       "      <td>0.085458</td>\n",
       "      <td>0.047283</td>\n",
       "      <td>0.043309</td>\n",
       "      <td>0.053201</td>\n",
       "    </tr>\n",
       "    <tr>\n",
       "      <th>Mean Absolute Error</th>\n",
       "      <td>0.073838</td>\n",
       "      <td>0.073838</td>\n",
       "      <td>0.228340</td>\n",
       "      <td>0.108534</td>\n",
       "      <td>0.073838</td>\n",
       "      <td>0.527418</td>\n",
       "      <td>0.121163</td>\n",
       "      <td>0.203640</td>\n",
       "      <td>0.171093</td>\n",
       "      <td>0.127668</td>\n",
       "      <td>0.131031</td>\n",
       "    </tr>\n",
       "    <tr>\n",
       "      <th>Root Mean Squared Error</th>\n",
       "      <td>0.123867</td>\n",
       "      <td>0.123867</td>\n",
       "      <td>0.366899</td>\n",
       "      <td>0.197478</td>\n",
       "      <td>0.123867</td>\n",
       "      <td>0.582901</td>\n",
       "      <td>0.189138</td>\n",
       "      <td>0.292332</td>\n",
       "      <td>0.217447</td>\n",
       "      <td>0.208108</td>\n",
       "      <td>0.230653</td>\n",
       "    </tr>\n",
       "  </tbody>\n",
       "</table>\n",
       "</div>"
      ],
      "text/plain": [
       "                              KNN  Naive Bayes  Decision Tree  Random Forest  \\\n",
       "R2 Score                 0.814515     0.814515      -0.627384       0.528553   \n",
       "Mean Squared Error       0.015343     0.015343       0.134615       0.038998   \n",
       "Mean Absolute Error      0.073838     0.073838       0.228340       0.108534   \n",
       "Root Mean Squared Error  0.123867     0.123867       0.366899       0.197478   \n",
       "\n",
       "                              SVM  Logistic Regression  Neural Network  \\\n",
       "R2 Score                 0.814515            -3.107578        0.567531   \n",
       "Mean Squared Error       0.015343             0.339774        0.035773   \n",
       "Mean Absolute Error      0.073838             0.527418        0.121163   \n",
       "Root Mean Squared Error  0.123867             0.582901        0.189138   \n",
       "\n",
       "                          XGBoost  adaBoost  Gradient Boosting   Bagging  \n",
       "R2 Score                -0.033112  0.428385           0.476433  0.356846  \n",
       "Mean Squared Error       0.085458  0.047283           0.043309  0.053201  \n",
       "Mean Absolute Error      0.203640  0.171093           0.127668  0.131031  \n",
       "Root Mean Squared Error  0.292332  0.217447           0.208108  0.230653  "
      ]
     },
     "execution_count": 365,
     "metadata": {},
     "output_type": "execute_result"
    }
   ],
   "source": [
    "evaldf = pd.DataFrame(eval)\n",
    "evaldf"
   ]
  },
  {
   "cell_type": "code",
   "execution_count": 366,
   "metadata": {},
   "outputs": [
    {
     "data": {
      "image/png": "[encoded data removed]",
      "text/plain": [
       "<Figure size 1440x720 with 1 Axes>"
      ]
     },
     "metadata": {
      "needs_background": "light"
     },
     "output_type": "display_data"
    }
   ],
   "source": [
    "# ploting the histogram\n",
    "evaldf.plot(kind='bar',figsize=(20,10))\n",
    "plt.show()"
   ]
  },
  {
   "cell_type": "code",
   "execution_count": 367,
   "metadata": {},
   "outputs": [
    {
     "data": {
      "text/html": [
       "<div>\n",
       "<style scoped>\n",
       "    .dataframe tbody tr th:only-of-type {\n",
       "        vertical-align: middle;\n",
       "    }\n",
       "\n",
       "    .dataframe tbody tr th {\n",
       "        vertical-align: top;\n",
       "    }\n",
       "\n",
       "    .dataframe thead th {\n",
       "        text-align: right;\n",
       "    }\n",
       "</style>\n",
       "<table border=\"1\" class=\"dataframe\">\n",
       "  <thead>\n",
       "    <tr style=\"text-align: right;\">\n",
       "      <th></th>\n",
       "      <th>KNN</th>\n",
       "      <th>Naive Bayes</th>\n",
       "      <th>Decision Tree</th>\n",
       "      <th>Random Forest</th>\n",
       "      <th>SVM</th>\n",
       "      <th>Logistic Regression</th>\n",
       "      <th>Neural Network</th>\n",
       "      <th>XGBoost</th>\n",
       "      <th>adaBoost</th>\n",
       "      <th>Gradient Boosting</th>\n",
       "      <th>Bagging</th>\n",
       "    </tr>\n",
       "  </thead>\n",
       "  <tbody>\n",
       "    <tr>\n",
       "      <th>R2 Score</th>\n",
       "      <td>0.814515</td>\n",
       "      <td>0.814515</td>\n",
       "      <td>-0.627384</td>\n",
       "      <td>0.528553</td>\n",
       "      <td>0.814515</td>\n",
       "      <td>-3.107578</td>\n",
       "      <td>0.567531</td>\n",
       "      <td>-0.033112</td>\n",
       "      <td>0.428385</td>\n",
       "      <td>0.476433</td>\n",
       "      <td>0.356846</td>\n",
       "    </tr>\n",
       "    <tr>\n",
       "      <th>Mean Squared Error</th>\n",
       "      <td>0.015343</td>\n",
       "      <td>0.015343</td>\n",
       "      <td>0.134615</td>\n",
       "      <td>0.038998</td>\n",
       "      <td>0.015343</td>\n",
       "      <td>0.339774</td>\n",
       "      <td>0.035773</td>\n",
       "      <td>0.085458</td>\n",
       "      <td>0.047283</td>\n",
       "      <td>0.043309</td>\n",
       "      <td>0.053201</td>\n",
       "    </tr>\n",
       "    <tr>\n",
       "      <th>Mean Absolute Error</th>\n",
       "      <td>0.073838</td>\n",
       "      <td>0.073838</td>\n",
       "      <td>0.228340</td>\n",
       "      <td>0.108534</td>\n",
       "      <td>0.073838</td>\n",
       "      <td>0.527418</td>\n",
       "      <td>0.121163</td>\n",
       "      <td>0.203640</td>\n",
       "      <td>0.171093</td>\n",
       "      <td>0.127668</td>\n",
       "      <td>0.131031</td>\n",
       "    </tr>\n",
       "    <tr>\n",
       "      <th>Root Mean Squared Error</th>\n",
       "      <td>0.123867</td>\n",
       "      <td>0.123867</td>\n",
       "      <td>0.366899</td>\n",
       "      <td>0.197478</td>\n",
       "      <td>0.123867</td>\n",
       "      <td>0.582901</td>\n",
       "      <td>0.189138</td>\n",
       "      <td>0.292332</td>\n",
       "      <td>0.217447</td>\n",
       "      <td>0.208108</td>\n",
       "      <td>0.230653</td>\n",
       "    </tr>\n",
       "  </tbody>\n",
       "</table>\n",
       "</div>"
      ],
      "text/plain": [
       "                              KNN  Naive Bayes  Decision Tree  Random Forest  \\\n",
       "R2 Score                 0.814515     0.814515      -0.627384       0.528553   \n",
       "Mean Squared Error       0.015343     0.015343       0.134615       0.038998   \n",
       "Mean Absolute Error      0.073838     0.073838       0.228340       0.108534   \n",
       "Root Mean Squared Error  0.123867     0.123867       0.366899       0.197478   \n",
       "\n",
       "                              SVM  Logistic Regression  Neural Network  \\\n",
       "R2 Score                 0.814515            -3.107578        0.567531   \n",
       "Mean Squared Error       0.015343             0.339774        0.035773   \n",
       "Mean Absolute Error      0.073838             0.527418        0.121163   \n",
       "Root Mean Squared Error  0.123867             0.582901        0.189138   \n",
       "\n",
       "                          XGBoost  adaBoost  Gradient Boosting   Bagging  \n",
       "R2 Score                -0.033112  0.428385           0.476433  0.356846  \n",
       "Mean Squared Error       0.085458  0.047283           0.043309  0.053201  \n",
       "Mean Absolute Error      0.203640  0.171093           0.127668  0.131031  \n",
       "Root Mean Squared Error  0.292332  0.217447           0.208108  0.230653  "
      ]
     },
     "execution_count": 367,
     "metadata": {},
     "output_type": "execute_result"
    }
   ],
   "source": [
    "evaldf"
   ]
  },
  {
   "cell_type": "code",
   "execution_count": 368,
   "metadata": {},
   "outputs": [],
   "source": [
    "df = evaldf.T.reset_index(level=0)"
   ]
  },
  {
   "cell_type": "code",
   "execution_count": 369,
   "metadata": {},
   "outputs": [
    {
     "data": {
      "text/html": [
       "<div>\n",
       "<style scoped>\n",
       "    .dataframe tbody tr th:only-of-type {\n",
       "        vertical-align: middle;\n",
       "    }\n",
       "\n",
       "    .dataframe tbody tr th {\n",
       "        vertical-align: top;\n",
       "    }\n",
       "\n",
       "    .dataframe thead th {\n",
       "        text-align: right;\n",
       "    }\n",
       "</style>\n",
       "<table border=\"1\" class=\"dataframe\">\n",
       "  <thead>\n",
       "    <tr style=\"text-align: right;\">\n",
       "      <th></th>\n",
       "      <th>index</th>\n",
       "      <th>R2 Score</th>\n",
       "      <th>Mean Squared Error</th>\n",
       "      <th>Mean Absolute Error</th>\n",
       "      <th>Root Mean Squared Error</th>\n",
       "    </tr>\n",
       "  </thead>\n",
       "  <tbody>\n",
       "    <tr>\n",
       "      <th>0</th>\n",
       "      <td>KNN</td>\n",
       "      <td>0.814515</td>\n",
       "      <td>0.015343</td>\n",
       "      <td>0.073838</td>\n",
       "      <td>0.123867</td>\n",
       "    </tr>\n",
       "    <tr>\n",
       "      <th>1</th>\n",
       "      <td>Naive Bayes</td>\n",
       "      <td>0.814515</td>\n",
       "      <td>0.015343</td>\n",
       "      <td>0.073838</td>\n",
       "      <td>0.123867</td>\n",
       "    </tr>\n",
       "    <tr>\n",
       "      <th>2</th>\n",
       "      <td>Decision Tree</td>\n",
       "      <td>-0.627384</td>\n",
       "      <td>0.134615</td>\n",
       "      <td>0.228340</td>\n",
       "      <td>0.366899</td>\n",
       "    </tr>\n",
       "    <tr>\n",
       "      <th>3</th>\n",
       "      <td>Random Forest</td>\n",
       "      <td>0.528553</td>\n",
       "      <td>0.038998</td>\n",
       "      <td>0.108534</td>\n",
       "      <td>0.197478</td>\n",
       "    </tr>\n",
       "    <tr>\n",
       "      <th>4</th>\n",
       "      <td>SVM</td>\n",
       "      <td>0.814515</td>\n",
       "      <td>0.015343</td>\n",
       "      <td>0.073838</td>\n",
       "      <td>0.123867</td>\n",
       "    </tr>\n",
       "    <tr>\n",
       "      <th>5</th>\n",
       "      <td>Logistic Regression</td>\n",
       "      <td>-3.107578</td>\n",
       "      <td>0.339774</td>\n",
       "      <td>0.527418</td>\n",
       "      <td>0.582901</td>\n",
       "    </tr>\n",
       "    <tr>\n",
       "      <th>6</th>\n",
       "      <td>Neural Network</td>\n",
       "      <td>0.567531</td>\n",
       "      <td>0.035773</td>\n",
       "      <td>0.121163</td>\n",
       "      <td>0.189138</td>\n",
       "    </tr>\n",
       "    <tr>\n",
       "      <th>7</th>\n",
       "      <td>XGBoost</td>\n",
       "      <td>-0.033112</td>\n",
       "      <td>0.085458</td>\n",
       "      <td>0.203640</td>\n",
       "      <td>0.292332</td>\n",
       "    </tr>\n",
       "    <tr>\n",
       "      <th>8</th>\n",
       "      <td>adaBoost</td>\n",
       "      <td>0.428385</td>\n",
       "      <td>0.047283</td>\n",
       "      <td>0.171093</td>\n",
       "      <td>0.217447</td>\n",
       "    </tr>\n",
       "    <tr>\n",
       "      <th>9</th>\n",
       "      <td>Gradient Boosting</td>\n",
       "      <td>0.476433</td>\n",
       "      <td>0.043309</td>\n",
       "      <td>0.127668</td>\n",
       "      <td>0.208108</td>\n",
       "    </tr>\n",
       "    <tr>\n",
       "      <th>10</th>\n",
       "      <td>Bagging</td>\n",
       "      <td>0.356846</td>\n",
       "      <td>0.053201</td>\n",
       "      <td>0.131031</td>\n",
       "      <td>0.230653</td>\n",
       "    </tr>\n",
       "  </tbody>\n",
       "</table>\n",
       "</div>"
      ],
      "text/plain": [
       "                  index  R2 Score  Mean Squared Error  Mean Absolute Error  \\\n",
       "0                   KNN  0.814515            0.015343             0.073838   \n",
       "1           Naive Bayes  0.814515            0.015343             0.073838   \n",
       "2         Decision Tree -0.627384            0.134615             0.228340   \n",
       "3         Random Forest  0.528553            0.038998             0.108534   \n",
       "4                   SVM  0.814515            0.015343             0.073838   \n",
       "5   Logistic Regression -3.107578            0.339774             0.527418   \n",
       "6        Neural Network  0.567531            0.035773             0.121163   \n",
       "7               XGBoost -0.033112            0.085458             0.203640   \n",
       "8              adaBoost  0.428385            0.047283             0.171093   \n",
       "9     Gradient Boosting  0.476433            0.043309             0.127668   \n",
       "10              Bagging  0.356846            0.053201             0.131031   \n",
       "\n",
       "    Root Mean Squared Error  \n",
       "0                  0.123867  \n",
       "1                  0.123867  \n",
       "2                  0.366899  \n",
       "3                  0.197478  \n",
       "4                  0.123867  \n",
       "5                  0.582901  \n",
       "6                  0.189138  \n",
       "7                  0.292332  \n",
       "8                  0.217447  \n",
       "9                  0.208108  \n",
       "10                 0.230653  "
      ]
     },
     "execution_count": 369,
     "metadata": {},
     "output_type": "execute_result"
    }
   ],
   "source": [
    "df"
   ]
  },
  {
   "cell_type": "code",
   "execution_count": 386,
   "metadata": {},
   "outputs": [
    {
     "data": {
      "image/png": "[encoded data removed]",
      "text/plain": [
       "<Figure size 1296x720 with 1 Axes>"
      ]
     },
     "metadata": {
      "needs_background": "light"
     },
     "output_type": "display_data"
    }
   ],
   "source": [
    "plt.figure(figsize=(18,10))\n",
    "plt.plot(df['index'],df['Mean Squared Error'],label='mean_squared_error')\n",
    "plt.plot(df['index'],df['Mean Absolute Error'],label='mean_absolute_error')\n",
    "plt.plot(df['index'],df['Root Mean Squared Error'],label='root_mean_squared_error')\n",
    "plt.legend()\n",
    "plt.show()"
   ]
  },
  {
   "cell_type": "code",
   "execution_count": 412,
   "metadata": {},
   "outputs": [
    {
     "data": {
      "image/png": "[encoded data removed]",
      "text/plain": [
       "<Figure size 1296x720 with 1 Axes>"
      ]
     },
     "metadata": {
      "needs_background": "light"
     },
     "output_type": "display_data"
    }
   ],
   "source": [
    "# Bar plot\n",
    "plt.figure(figsize=(18,10))\n",
    "N = len(df['index'])\n",
    "ind = np.arange(N)\n",
    "w = 0.4\n",
    "\n",
    "plt.bar(df['index'],df['Root Mean Squared Error'],w,label='root_mean_squared_error')\n",
    "plt.bar(ind+w,df['Mean Absolute Error'],w,label='mean_squared_serror')\n",
    "plt.xlabel('Models')\n",
    "plt.xticks(rotation=90)\n",
    "plt.ylabel('Error')\n",
    "plt.legend()\n",
    "plt.show()"
   ]
  },
  {
   "cell_type": "code",
   "execution_count": 408,
   "metadata": {},
   "outputs": [
    {
     "data": {
      "image/png": "[encoded data removed]",
      "text/plain": [
       "<Figure size 1296x720 with 1 Axes>"
      ]
     },
     "metadata": {
      "needs_background": "light"
     },
     "output_type": "display_data"
    }
   ],
   "source": []
  },
  {
   "cell_type": "code",
   "execution_count": null,
   "metadata": {},
   "outputs": [],
   "source": []
  }
 ],
 "metadata": {
  "kernelspec": {
   "display_name": "Python 3",
   "language": "python",
   "name": "python3"
  },
  "language_info": {
   "codemirror_mode": {
    "name": "ipython",
    "version": 3
   },
   "file_extension": ".py",
   "mimetype": "text/x-python",
   "name": "python",
   "nbconvert_exporter": "python",
   "pygments_lexer": "ipython3",
   "version": "3.9.7"
  },
  "orig_nbformat": 4,
  "vscode": {
   "interpreter": {
    "hash": "e58b358bfea57fbec6fce8fd709863752c38546663e0f6dbe19f4a200e737f6c"
   }
  }
 },
 "nbformat": 4,
 "nbformat_minor": 2
}
